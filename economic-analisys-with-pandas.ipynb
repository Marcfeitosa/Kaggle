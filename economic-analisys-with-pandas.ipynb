{
 "cells": [
  {
   "cell_type": "code",
   "execution_count": 1,
   "id": "8e35302b",
   "metadata": {
    "execution": {
     "iopub.execute_input": "2023-04-15T01:52:34.639073Z",
     "iopub.status.busy": "2023-04-15T01:52:34.638358Z",
     "iopub.status.idle": "2023-04-15T01:52:44.840343Z",
     "shell.execute_reply": "2023-04-15T01:52:44.838967Z"
    },
    "papermill": {
     "duration": 10.215381,
     "end_time": "2023-04-15T01:52:44.843224",
     "exception": false,
     "start_time": "2023-04-15T01:52:34.627843",
     "status": "completed"
    },
    "tags": []
   },
   "outputs": [
    {
     "name": "stdout",
     "output_type": "stream",
     "text": [
      "Collecting fredapi\r\n",
      "  Downloading fredapi-0.5.0-py3-none-any.whl (11 kB)\r\n",
      "Requirement already satisfied: pandas in /opt/conda/lib/python3.7/site-packages (from fredapi) (1.3.5)\r\n",
      "Requirement already satisfied: pytz>=2017.3 in /opt/conda/lib/python3.7/site-packages (from pandas->fredapi) (2022.7.1)\r\n",
      "Requirement already satisfied: python-dateutil>=2.7.3 in /opt/conda/lib/python3.7/site-packages (from pandas->fredapi) (2.8.2)\r\n",
      "Requirement already satisfied: numpy>=1.17.3 in /opt/conda/lib/python3.7/site-packages (from pandas->fredapi) (1.21.6)\r\n",
      "Requirement already satisfied: six>=1.5 in /opt/conda/lib/python3.7/site-packages (from python-dateutil>=2.7.3->pandas->fredapi) (1.16.0)\r\n",
      "Installing collected packages: fredapi\r\n",
      "Successfully installed fredapi-0.5.0\r\n",
      "\u001b[33mWARNING: Running pip as the 'root' user can result in broken permissions and conflicting behaviour with the system package manager. It is recommended to use a virtual environment instead: https://pip.pypa.io/warnings/venv\u001b[0m\u001b[33m\r\n",
      "\u001b[0m"
     ]
    }
   ],
   "source": [
    "!pip install fredapi"
   ]
  },
  {
   "cell_type": "code",
   "execution_count": 2,
   "id": "d08f94e7",
   "metadata": {
    "execution": {
     "iopub.execute_input": "2023-04-15T01:52:44.861383Z",
     "iopub.status.busy": "2023-04-15T01:52:44.860983Z",
     "iopub.status.idle": "2023-04-15T01:52:47.015792Z",
     "shell.execute_reply": "2023-04-15T01:52:47.014843Z"
    },
    "papermill": {
     "duration": 2.167279,
     "end_time": "2023-04-15T01:52:47.018887",
     "exception": false,
     "start_time": "2023-04-15T01:52:44.851608",
     "status": "completed"
    },
    "tags": []
   },
   "outputs": [],
   "source": [
    "import pandas as pd\n",
    "import numpy as np\n",
    "import matplotlib.pyplot as plt\n",
    "import plotly.express as px\n",
    "\n",
    "plt.style.use('fivethirtyeight')\n",
    "pd.set_option('display.max_columns', 500)\n",
    "color_pal = plt.rcParams['axes.prop_cycle'].by_key()['color']\n",
    "\n",
    "from fredapi import Fred\n",
    "\n",
    "from kaggle_secrets import UserSecretsClient\n",
    "user_secrets = UserSecretsClient()\n",
    "secret_value_0 = user_secrets.get_secret(\"FRED\")"
   ]
  },
  {
   "cell_type": "markdown",
   "id": "6737edf8",
   "metadata": {
    "papermill": {
     "duration": 0.008737,
     "end_time": "2023-04-15T01:52:47.035990",
     "exception": false,
     "start_time": "2023-04-15T01:52:47.027253",
     "status": "completed"
    },
    "tags": []
   },
   "source": [
    "# Create the Fred Object"
   ]
  },
  {
   "cell_type": "code",
   "execution_count": 3,
   "id": "eef8ed47",
   "metadata": {
    "execution": {
     "iopub.execute_input": "2023-04-15T01:52:47.055659Z",
     "iopub.status.busy": "2023-04-15T01:52:47.055241Z",
     "iopub.status.idle": "2023-04-15T01:52:47.136669Z",
     "shell.execute_reply": "2023-04-15T01:52:47.134820Z"
    },
    "papermill": {
     "duration": 0.094175,
     "end_time": "2023-04-15T01:52:47.138799",
     "exception": true,
     "start_time": "2023-04-15T01:52:47.044624",
     "status": "failed"
    },
    "tags": []
   },
   "outputs": [
    {
     "ename": "NameError",
     "evalue": "name 'fred_key' is not defined",
     "output_type": "error",
     "traceback": [
      "\u001b[0;31m---------------------------------------------------------------------------\u001b[0m",
      "\u001b[0;31mNameError\u001b[0m                                 Traceback (most recent call last)",
      "\u001b[0;32m/tmp/ipykernel_19/821216400.py\u001b[0m in \u001b[0;36m<module>\u001b[0;34m\u001b[0m\n\u001b[0;32m----> 1\u001b[0;31m \u001b[0mfred\u001b[0m \u001b[0;34m=\u001b[0m \u001b[0mFred\u001b[0m\u001b[0;34m(\u001b[0m\u001b[0mapi_key\u001b[0m\u001b[0;34m=\u001b[0m\u001b[0mfred_key\u001b[0m\u001b[0;34m)\u001b[0m\u001b[0;34m\u001b[0m\u001b[0;34m\u001b[0m\u001b[0m\n\u001b[0m",
      "\u001b[0;31mNameError\u001b[0m: name 'fred_key' is not defined"
     ]
    }
   ],
   "source": [
    "fred = Fred(api_key=fred_key)"
   ]
  },
  {
   "cell_type": "markdown",
   "id": "ee1bbb5e",
   "metadata": {
    "papermill": {
     "duration": null,
     "end_time": null,
     "exception": null,
     "start_time": null,
     "status": "pending"
    },
    "tags": []
   },
   "source": [
    "# Search for economic data"
   ]
  },
  {
   "cell_type": "code",
   "execution_count": null,
   "id": "ab5c68a4",
   "metadata": {
    "papermill": {
     "duration": null,
     "end_time": null,
     "exception": null,
     "start_time": null,
     "status": "pending"
    },
    "tags": []
   },
   "outputs": [],
   "source": [
    "fred.search('S&P')"
   ]
  },
  {
   "cell_type": "code",
   "execution_count": null,
   "id": "09ea7616",
   "metadata": {
    "papermill": {
     "duration": null,
     "end_time": null,
     "exception": null,
     "start_time": null,
     "status": "pending"
    },
    "tags": []
   },
   "outputs": [],
   "source": [
    "sp_search = fred.search('S&P',order_by='popularity')"
   ]
  },
  {
   "cell_type": "code",
   "execution_count": null,
   "id": "4819d8e7",
   "metadata": {
    "papermill": {
     "duration": null,
     "end_time": null,
     "exception": null,
     "start_time": null,
     "status": "pending"
    },
    "tags": []
   },
   "outputs": [],
   "source": [
    "sp_search.shape"
   ]
  },
  {
   "cell_type": "code",
   "execution_count": null,
   "id": "527899b7",
   "metadata": {
    "papermill": {
     "duration": null,
     "end_time": null,
     "exception": null,
     "start_time": null,
     "status": "pending"
    },
    "tags": []
   },
   "outputs": [],
   "source": [
    "sp_search.head(10)"
   ]
  },
  {
   "cell_type": "markdown",
   "id": "21f48915",
   "metadata": {
    "papermill": {
     "duration": null,
     "end_time": null,
     "exception": null,
     "start_time": null,
     "status": "pending"
    },
    "tags": []
   },
   "source": [
    "# Pull Raw Data and Plot"
   ]
  },
  {
   "cell_type": "code",
   "execution_count": null,
   "id": "615b3844",
   "metadata": {
    "papermill": {
     "duration": null,
     "end_time": null,
     "exception": null,
     "start_time": null,
     "status": "pending"
    },
    "tags": []
   },
   "outputs": [],
   "source": [
    "sp500 = fred.get_series(series_id='SP500')"
   ]
  },
  {
   "cell_type": "code",
   "execution_count": null,
   "id": "fda6d6f5",
   "metadata": {
    "papermill": {
     "duration": null,
     "end_time": null,
     "exception": null,
     "start_time": null,
     "status": "pending"
    },
    "tags": []
   },
   "outputs": [],
   "source": [
    "sp500.plot(figsize=(10,5),title='S&P 500',lw=2);"
   ]
  },
  {
   "cell_type": "markdown",
   "id": "10265a43",
   "metadata": {
    "papermill": {
     "duration": null,
     "end_time": null,
     "exception": null,
     "start_time": null,
     "status": "pending"
    },
    "tags": []
   },
   "source": [
    "# Pull and Joing Multiple Data Series"
   ]
  },
  {
   "cell_type": "code",
   "execution_count": null,
   "id": "252fd0bf",
   "metadata": {
    "papermill": {
     "duration": null,
     "end_time": null,
     "exception": null,
     "start_time": null,
     "status": "pending"
    },
    "tags": []
   },
   "outputs": [],
   "source": [
    "unemp_result = fred.search('unemployment')"
   ]
  },
  {
   "cell_type": "code",
   "execution_count": null,
   "id": "669a563d",
   "metadata": {
    "papermill": {
     "duration": null,
     "end_time": null,
     "exception": null,
     "start_time": null,
     "status": "pending"
    },
    "tags": []
   },
   "outputs": [],
   "source": [
    "unrate = fred.get_series('UNRATE')"
   ]
  },
  {
   "cell_type": "code",
   "execution_count": null,
   "id": "3e79a837",
   "metadata": {
    "papermill": {
     "duration": null,
     "end_time": null,
     "exception": null,
     "start_time": null,
     "status": "pending"
    },
    "tags": []
   },
   "outputs": [],
   "source": [
    "unrate.plot(figsize=(12,5),title='Unemployment rate',lw=2);"
   ]
  },
  {
   "cell_type": "code",
   "execution_count": null,
   "id": "a251feb4",
   "metadata": {
    "papermill": {
     "duration": null,
     "end_time": null,
     "exception": null,
     "start_time": null,
     "status": "pending"
    },
    "tags": []
   },
   "outputs": [],
   "source": [
    "unemp_result"
   ]
  },
  {
   "cell_type": "code",
   "execution_count": null,
   "id": "98e94c8f",
   "metadata": {
    "papermill": {
     "duration": null,
     "end_time": null,
     "exception": null,
     "start_time": null,
     "status": "pending"
    },
    "tags": []
   },
   "outputs": [],
   "source": [
    "unemp_df = fred.search('unemployment rate state', filter=('frequency', 'Monthly'))\n",
    "unemp_df = unemp_df.query('seasonal_adjustment == \"Seasonally Adjusted\" and units == \"Percent\"')\n",
    "unemp_df = unemp_df.loc[unemp_df['title'].str.contains('Unemployment Rate')]"
   ]
  },
  {
   "cell_type": "code",
   "execution_count": null,
   "id": "47b1dff1",
   "metadata": {
    "papermill": {
     "duration": null,
     "end_time": null,
     "exception": null,
     "start_time": null,
     "status": "pending"
    },
    "tags": []
   },
   "outputs": [],
   "source": [
    "unemp_df"
   ]
  },
  {
   "cell_type": "code",
   "execution_count": null,
   "id": "64bc1736",
   "metadata": {
    "papermill": {
     "duration": null,
     "end_time": null,
     "exception": null,
     "start_time": null,
     "status": "pending"
    },
    "tags": []
   },
   "outputs": [],
   "source": [
    "unemp_df.index"
   ]
  },
  {
   "cell_type": "code",
   "execution_count": null,
   "id": "3bf45925",
   "metadata": {
    "papermill": {
     "duration": null,
     "end_time": null,
     "exception": null,
     "start_time": null,
     "status": "pending"
    },
    "tags": []
   },
   "outputs": [],
   "source": [
    "len(unemp_df.index)"
   ]
  },
  {
   "cell_type": "code",
   "execution_count": null,
   "id": "c5545c88",
   "metadata": {
    "papermill": {
     "duration": null,
     "end_time": null,
     "exception": null,
     "start_time": null,
     "status": "pending"
    },
    "tags": []
   },
   "outputs": [],
   "source": [
    "unemp_df_list_of_columns = unemp_df.index.tolist()\n",
    "print(unemp_df_list_of_columns)"
   ]
  },
  {
   "cell_type": "code",
   "execution_count": null,
   "id": "fed62920",
   "metadata": {
    "papermill": {
     "duration": null,
     "end_time": null,
     "exception": null,
     "start_time": null,
     "status": "pending"
    },
    "tags": []
   },
   "outputs": [],
   "source": [
    "list_to_drop = [elem for elem in unemp_df_list_of_columns if len(elem) > 4]"
   ]
  },
  {
   "cell_type": "code",
   "execution_count": null,
   "id": "5538bac4",
   "metadata": {
    "papermill": {
     "duration": null,
     "end_time": null,
     "exception": null,
     "start_time": null,
     "status": "pending"
    },
    "tags": []
   },
   "outputs": [],
   "source": [
    "#This cell usually takes long to run, it will clean the dataframe and come up with a new one with only the states meta data\n",
    "\n",
    "all_results = []\n",
    "\n",
    "for myid in unemp_df.index:\n",
    "    results = fred.get_series(myid)\n",
    "    results = results.to_frame(name=myid)\n",
    "    all_results.append(results)\n",
    "#Drop all the columns not corresponding to states in this line\n",
    "unemp_states = pd.concat(all_results, axis=1).drop(list_to_drop, axis=1)"
   ]
  },
  {
   "cell_type": "code",
   "execution_count": null,
   "id": "634a5d3b",
   "metadata": {
    "papermill": {
     "duration": null,
     "end_time": null,
     "exception": null,
     "start_time": null,
     "status": "pending"
    },
    "tags": []
   },
   "outputs": [],
   "source": [
    "unemp_states"
   ]
  },
  {
   "cell_type": "code",
   "execution_count": null,
   "id": "b553a27d",
   "metadata": {
    "papermill": {
     "duration": null,
     "end_time": null,
     "exception": null,
     "start_time": null,
     "status": "pending"
    },
    "tags": []
   },
   "outputs": [],
   "source": [
    "unemp_states.isna().sum(axis=1)"
   ]
  },
  {
   "cell_type": "code",
   "execution_count": null,
   "id": "8778b0b9",
   "metadata": {
    "papermill": {
     "duration": null,
     "end_time": null,
     "exception": null,
     "start_time": null,
     "status": "pending"
    },
    "tags": []
   },
   "outputs": [],
   "source": [
    "unemp_states.isna().sum(axis=1).plot()"
   ]
  },
  {
   "cell_type": "code",
   "execution_count": null,
   "id": "6f484eed",
   "metadata": {
    "papermill": {
     "duration": null,
     "end_time": null,
     "exception": null,
     "start_time": null,
     "status": "pending"
    },
    "tags": []
   },
   "outputs": [],
   "source": [
    "unemp_states = unemp_states.dropna()"
   ]
  },
  {
   "cell_type": "code",
   "execution_count": null,
   "id": "a8be5450",
   "metadata": {
    "papermill": {
     "duration": null,
     "end_time": null,
     "exception": null,
     "start_time": null,
     "status": "pending"
    },
    "tags": []
   },
   "outputs": [],
   "source": [
    "unemp_df['title']=='Unemployment Rate in California'"
   ]
  },
  {
   "cell_type": "code",
   "execution_count": null,
   "id": "6c5f9bd7",
   "metadata": {
    "papermill": {
     "duration": null,
     "end_time": null,
     "exception": null,
     "start_time": null,
     "status": "pending"
    },
    "tags": []
   },
   "outputs": [],
   "source": [
    "id_to_state = unemp_df['title'].str.replace('Unemployment Rate in', '').str.strip().to_dict()\n",
    "unemp_states.columns = unemp_states.columns.str.strip()\n",
    "unemp_states.columns = [id_to_state[c] if c in id_to_state else c for c in unemp_states.columns]\n",
    "unemp_states = unemp_states.loc[:, ~unemp_states.columns.duplicated()]"
   ]
  },
  {
   "cell_type": "code",
   "execution_count": null,
   "id": "d7d5278f",
   "metadata": {
    "papermill": {
     "duration": null,
     "end_time": null,
     "exception": null,
     "start_time": null,
     "status": "pending"
    },
    "tags": []
   },
   "outputs": [],
   "source": [
    "print(len(id_to_state))"
   ]
  },
  {
   "cell_type": "code",
   "execution_count": null,
   "id": "c3a3c542",
   "metadata": {
    "papermill": {
     "duration": null,
     "end_time": null,
     "exception": null,
     "start_time": null,
     "status": "pending"
    },
    "tags": []
   },
   "outputs": [],
   "source": [
    "# plot States Unemployment Rate\n",
    "px.line(unemp_states)"
   ]
  },
  {
   "cell_type": "markdown",
   "id": "f9432527",
   "metadata": {
    "papermill": {
     "duration": null,
     "end_time": null,
     "exception": null,
     "start_time": null,
     "status": "pending"
    },
    "tags": []
   },
   "source": [
    "## Pull May 2020 Unemployment Rate Per State"
   ]
  },
  {
   "cell_type": "code",
   "execution_count": null,
   "id": "490f8eac",
   "metadata": {
    "papermill": {
     "duration": null,
     "end_time": null,
     "exception": null,
     "start_time": null,
     "status": "pending"
    },
    "tags": []
   },
   "outputs": [],
   "source": [
    "print(unemp_states.loc[unemp_states.index == '2020-05-01'].T)"
   ]
  },
  {
   "cell_type": "code",
   "execution_count": null,
   "id": "eb6c5a17",
   "metadata": {
    "papermill": {
     "duration": null,
     "end_time": null,
     "exception": null,
     "start_time": null,
     "status": "pending"
    },
    "tags": []
   },
   "outputs": [],
   "source": [
    "ax = unemp_states.loc[unemp_states.index == '2020-05-01'].T.sort_values('2020-05-01').plot(kind='barh',figsize=(12,12), width=1, edgecolor='black',\n",
    "                                                                                      title='Unemployment Rate by State, May 2020');\n",
    "ax.legend().remove()\n",
    "plt.show()"
   ]
  },
  {
   "cell_type": "code",
   "execution_count": null,
   "id": "8b79f722",
   "metadata": {
    "papermill": {
     "duration": null,
     "end_time": null,
     "exception": null,
     "start_time": null,
     "status": "pending"
    },
    "tags": []
   },
   "outputs": [],
   "source": [
    "#print(unemp_states.loc[unemp_states.index].T)"
   ]
  },
  {
   "cell_type": "markdown",
   "id": "58472d77",
   "metadata": {
    "papermill": {
     "duration": null,
     "end_time": null,
     "exception": null,
     "start_time": null,
     "status": "pending"
    },
    "tags": []
   },
   "source": [
    "# Pull Participation Rate"
   ]
  },
  {
   "cell_type": "code",
   "execution_count": null,
   "id": "02ab913b",
   "metadata": {
    "papermill": {
     "duration": null,
     "end_time": null,
     "exception": null,
     "start_time": null,
     "status": "pending"
    },
    "tags": []
   },
   "outputs": [],
   "source": [
    "part_df = fred.search('participation rate state', filter=('frequency', 'Monthly'))\n",
    "part_df = part_df.query('seasonal_adjustment == \"Seasonally Adjusted\" and units == \"Percent\"')"
   ]
  },
  {
   "cell_type": "code",
   "execution_count": null,
   "id": "ce44ce66",
   "metadata": {
    "papermill": {
     "duration": null,
     "end_time": null,
     "exception": null,
     "start_time": null,
     "status": "pending"
    },
    "tags": []
   },
   "outputs": [],
   "source": [
    "part_id_to_state = part_df['title'].str.replace('Labor Force Participation Rate for ','').to_dict()"
   ]
  },
  {
   "cell_type": "code",
   "execution_count": null,
   "id": "8a4b89b5",
   "metadata": {
    "papermill": {
     "duration": null,
     "end_time": null,
     "exception": null,
     "start_time": null,
     "status": "pending"
    },
    "tags": []
   },
   "outputs": [],
   "source": [
    "to_drop = {key: value for key, value in part_id_to_state.items() if not key.startswith(\"LBS\")}\n",
    "to_drop_list = list(to_drop.keys())\n",
    "print(to_drop_list)"
   ]
  },
  {
   "cell_type": "code",
   "execution_count": null,
   "id": "69500007",
   "metadata": {
    "papermill": {
     "duration": null,
     "end_time": null,
     "exception": null,
     "start_time": null,
     "status": "pending"
    },
    "tags": []
   },
   "outputs": [],
   "source": [
    "all_results = []\n",
    "\n",
    "for myid in part_df.index:\n",
    "    results = fred.get_series(myid)\n",
    "    results = results.to_frame(name=myid)\n",
    "    all_results.append(results)\n",
    "part_states = pd.concat(all_results, axis=1).drop(to_drop_list, axis=1)\n",
    "part_states.columns = [part_id_to_state[c] for c in part_states.columns]"
   ]
  },
  {
   "cell_type": "code",
   "execution_count": null,
   "id": "70c0888f",
   "metadata": {
    "papermill": {
     "duration": null,
     "end_time": null,
     "exception": null,
     "start_time": null,
     "status": "pending"
    },
    "tags": []
   },
   "outputs": [],
   "source": [
    "part_states = part_states.dropna()"
   ]
  },
  {
   "cell_type": "markdown",
   "id": "d444f670",
   "metadata": {
    "papermill": {
     "duration": null,
     "end_time": null,
     "exception": null,
     "start_time": null,
     "status": "pending"
    },
    "tags": []
   },
   "source": [
    "# Plot Unumployment vs Participation"
   ]
  },
  {
   "cell_type": "code",
   "execution_count": null,
   "id": "b547281e",
   "metadata": {
    "papermill": {
     "duration": null,
     "end_time": null,
     "exception": null,
     "start_time": null,
     "status": "pending"
    },
    "tags": []
   },
   "outputs": [],
   "source": [
    "# Fix DC\n",
    "unemp_states = unemp_states.rename(columns={'the District of Columbia':'District of Columbia'})"
   ]
  },
  {
   "cell_type": "code",
   "execution_count": null,
   "id": "ed5d8353",
   "metadata": {
    "papermill": {
     "duration": null,
     "end_time": null,
     "exception": null,
     "start_time": null,
     "status": "pending"
    },
    "tags": []
   },
   "outputs": [],
   "source": [
    "fig, ax = plt.subplots()\n",
    "ax2 = ax.twinx()\n",
    "unemp_states.query('index >= 2020 and index < 2022')['New York'].plot(ax=ax, label='Unemployment');\n",
    "#part_states.query('index >= 2020 and index < 2022')['New York'].plot(ax=ax2, label='Participation', color=color_pal[1]);"
   ]
  },
  {
   "cell_type": "code",
   "execution_count": null,
   "id": "c726b3d8",
   "metadata": {
    "papermill": {
     "duration": null,
     "end_time": null,
     "exception": null,
     "start_time": null,
     "status": "pending"
    },
    "tags": []
   },
   "outputs": [],
   "source": [
    "fig, ax = plt.subplots()\n",
    "ax2 = ax.twinx()\n",
    "#unemp_states.query('index >= 2020 and index < 2022')['New York'].plot(ax=ax, label='Unemployment');\n",
    "part_states.query('index >= 2020 and index < 2022')['New York'].plot(ax=ax2, label='Participation', color=color_pal[1]);"
   ]
  },
  {
   "cell_type": "code",
   "execution_count": null,
   "id": "8762ad50",
   "metadata": {
    "papermill": {
     "duration": null,
     "end_time": null,
     "exception": null,
     "start_time": null,
     "status": "pending"
    },
    "tags": []
   },
   "outputs": [],
   "source": [
    "fig, axs = plt.subplots(10, 5, figsize=(20,20), sharex=True, sharey=True)\n",
    "axs = axs.flatten()\n",
    "\n",
    "i=0\n",
    "for state in unemp_states.columns:\n",
    "    if state in ['District of Columbia', 'Puerto Rico']:\n",
    "        continue\n",
    "    ax2 = axs[i].twinx()\n",
    "    unemp_states.query('index >= 2020 and index < 2022')[state].plot(ax=axs[i], label='Unemployment');\n",
    "    part_states.query('index >= 2020 and index < 2022')[state].plot(ax=ax2, label='Participation', color=color_pal[1]);\n",
    "    ax2.grid(False)\n",
    "    axs[i].set_title(state, fontsize=8)\n",
    "    i+= 1\n",
    "plt.tight_layout()\n",
    "plt.show()"
   ]
  },
  {
   "cell_type": "code",
   "execution_count": null,
   "id": "9af68515",
   "metadata": {
    "papermill": {
     "duration": null,
     "end_time": null,
     "exception": null,
     "start_time": null,
     "status": "pending"
    },
    "tags": []
   },
   "outputs": [],
   "source": [
    "# Merge the two DataFrames column-wise\n",
    "merged_df = pd.concat([part_states, unemp_states], axis=1, keys=['participation', 'unemployment'])\n",
    "\n",
    "# Print the first 5 rows of the merged DataFrame\n",
    "#print(merged_df.head())"
   ]
  },
  {
   "cell_type": "code",
   "execution_count": null,
   "id": "dd99f8d3",
   "metadata": {
    "papermill": {
     "duration": null,
     "end_time": null,
     "exception": null,
     "start_time": null,
     "status": "pending"
    },
    "tags": []
   },
   "outputs": [],
   "source": [
    "state = 'California'\n",
    "start_date = '2020-01-01'\n",
    "end_date = '2021-12-31'\n",
    "\n",
    "unemp_states.loc[start_date:end_date, state].plot(label='Unemployment Rate')\n",
    "part_states.loc[start_date:end_date, state].plot(label='Participation Rate')\n",
    "plt.title(f'Unemployment and Participation Rates for {state} ({start_date} to {end_date})')\n",
    "plt.legend()\n",
    "plt.show()"
   ]
  },
  {
   "cell_type": "code",
   "execution_count": null,
   "id": "89e0e1d4",
   "metadata": {
    "papermill": {
     "duration": null,
     "end_time": null,
     "exception": null,
     "start_time": null,
     "status": "pending"
    },
    "tags": []
   },
   "outputs": [],
   "source": [
    "state = 'New York'\n",
    "start_date = '2020-01-01'\n",
    "end_date = '2021-12-31'\n",
    "\n",
    "unemp_states.loc[start_date:end_date, state].plot(label='Unemployment Rate')\n",
    "part_states.loc[start_date:end_date, state].plot(label='Participation Rate')\n",
    "plt.title(f'Unemployment and Participation Rates for {state} ({start_date} to {end_date})')\n",
    "plt.legend()\n",
    "plt.show()"
   ]
  },
  {
   "cell_type": "code",
   "execution_count": null,
   "id": "b2dc34bc",
   "metadata": {
    "papermill": {
     "duration": null,
     "end_time": null,
     "exception": null,
     "start_time": null,
     "status": "pending"
    },
    "tags": []
   },
   "outputs": [],
   "source": []
  }
 ],
 "metadata": {
  "kernelspec": {
   "display_name": "Python 3",
   "language": "python",
   "name": "python3"
  },
  "language_info": {
   "codemirror_mode": {
    "name": "ipython",
    "version": 3
   },
   "file_extension": ".py",
   "mimetype": "text/x-python",
   "name": "python",
   "nbconvert_exporter": "python",
   "pygments_lexer": "ipython3",
   "version": "3.7.12"
  },
  "papermill": {
   "default_parameters": {},
   "duration": 22.414018,
   "end_time": "2023-04-15T01:52:47.871629",
   "environment_variables": {},
   "exception": true,
   "input_path": "__notebook__.ipynb",
   "output_path": "__notebook__.ipynb",
   "parameters": {},
   "start_time": "2023-04-15T01:52:25.457611",
   "version": "2.4.0"
  }
 },
 "nbformat": 4,
 "nbformat_minor": 5
}
